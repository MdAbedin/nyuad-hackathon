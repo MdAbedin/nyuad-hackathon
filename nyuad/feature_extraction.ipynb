{
  "cells": [
    {
      "cell_type": "code",
      "execution_count": null,
      "metadata": {
        "id": "ZpjGLAOYCMNF"
      },
      "outputs": [],
      "source": [
        "import torch\n",
        "import torchvision.models as models\n",
        "import torchvision.transforms as transforms\n",
        "from PIL import Image\n",
        "from transformers import BertModel, BertTokenizer\n",
        "import IPython\n",
        "import matplotlib\n",
        "import matplotlib.pyplot as plt\n",
        "import requests\n",
        "import torchaudio\n",
        "import os"
      ]
    },
    {
      "cell_type": "code",
      "execution_count": null,
      "metadata": {
        "colab": {
          "base_uri": "https://localhost:8080/"
        },
        "id": "S1KEtEJpNpmy",
        "outputId": "4fe17a46-71a0-4f8b-99ee-36e176175cda"
      },
      "outputs": [
        {
          "output_type": "stream",
          "name": "stdout",
          "text": [
            "Drive already mounted at /content/drive; to attempt to forcibly remount, call drive.mount(\"/content/drive\", force_remount=True).\n"
          ]
        }
      ],
      "source": [
        "from google.colab import drive\n",
        "drive.mount('/content/drive')"
      ]
    },
    {
      "cell_type": "code",
      "execution_count": null,
      "metadata": {
        "id": "z-puM4AJHHKa"
      },
      "outputs": [],
      "source": [
        "%matplotlib inline"
      ]
    },
    {
      "cell_type": "code",
      "execution_count": null,
      "metadata": {
        "id": "j71u8F9WF3t-"
      },
      "outputs": [],
      "source": [
        "def process_image(image_path):\n",
        "  model = models.resnet18(pretrained=True)\n",
        "  num_features = model.fc.in_features\n",
        "  model.fc = torch.nn.Linear(num_features, 5)\n",
        "  image = Image.open(image_path)\n",
        "  transform = transforms.Compose([\n",
        "    transforms.Resize((224, 224)),\n",
        "    transforms.ToTensor(),\n",
        "    transforms.Normalize(mean=[0.485, 0.456, 0.406], std=[0.229, 0.224, 0.225])\n",
        "  ])\n",
        "  input_tensor = transform(image)\n",
        "  input_batch = input_tensor.unsqueeze(0)\n",
        "\n",
        "  model.eval()\n",
        "  with torch.no_grad():\n",
        "      output = model(input_batch)\n",
        "\n",
        "  return output"
      ]
    },
    {
      "cell_type": "code",
      "execution_count": null,
      "metadata": {
        "id": "81q1wzvZCtzF"
      },
      "outputs": [],
      "source": [
        "def process_text(text_path):\n",
        "    model_name = 'bert-base-uncased'\n",
        "    tokenizer = BertTokenizer.from_pretrained(model_name)\n",
        "    model = BertModel.from_pretrained(model_name)\n",
        "\n",
        "    with open(text_path, 'r') as file:\n",
        "        text = file.read()\n",
        "\n",
        "    inputs = tokenizer(text, return_tensors=\"pt\", padding=True, truncation=True, max_length=512)\n",
        "\n",
        "    with torch.no_grad():\n",
        "        outputs = model(**inputs)\n",
        "    last_hidden_states = outputs.last_hidden_state\n",
        "\n",
        "    features = torch.mean(last_hidden_states, dim=1).squeeze()\n",
        "\n",
        "    n_features = 5\n",
        "    if features.numel() == 0 or features.shape[0] < n_features:\n",
        "        return torch.zeros(n_features)\n",
        "\n",
        "    section_length = features.shape[0] // n_features\n",
        "    reduced_vector = torch.zeros(n_features)\n",
        "    for i in range(n_features):\n",
        "        start_index = i * section_length\n",
        "        end_index = start_index + section_length\n",
        "        if i == n_features - 1:\n",
        "            end_index = features.shape[0]\n",
        "        reduced_vector[i] = torch.mean(features[start_index:end_index])\n",
        "\n",
        "    return reduced_vector"
      ]
    },
    {
      "cell_type": "code",
      "source": [
        "def process_training_set(directory, output_file_path):\n",
        "    device = 'cuda' if torch.cuda.is_available() else 'cpu'\n",
        "    with open(output_file_path, 'w') as out_file:\n",
        "        for folder_name in os.listdir(directory):\n",
        "            folder_path = os.path.join(directory, folder_name)\n",
        "            if os.path.isdir(folder_path):\n",
        "                image_file = next((f for f in os.listdir(folder_path) if f.startswith('photo')), None)\n",
        "                text_file = next((f for f in os.listdir(folder_path) if f.startswith('text')), None)\n",
        "                label_file = next((f for f in os.listdir(folder_path) if f.endswith('.txt') and 'label' in f), None)\n",
        "\n",
        "                if image_file and text_file and label_file:\n",
        "                    image_path = os.path.join(folder_path, image_file)\n",
        "                    text_path = os.path.join(folder_path, text_file)\n",
        "                    label_path = os.path.join(folder_path, label_file)\n",
        "\n",
        "                    image_features = process_image(image_path).to(device)\n",
        "                    text_features = process_text(text_path).to(device)\n",
        "\n",
        "                    combined_features = torch.cat((image_features.squeeze(0), text_features.squeeze(0)), dim=0)\n",
        "\n",
        "                    with open(label_path, 'r') as label_file:\n",
        "                        label = label_file.read().strip()\n",
        "\n",
        "                    feature_string = ' '.join([str(f.item()) for f in combined_features])\n",
        "                    out_file.write(f\"{feature_string} {label}\\n\")\n"
      ],
      "metadata": {
        "id": "bBvR2Hcml77X"
      },
      "execution_count": null,
      "outputs": []
    }
  ],
  "metadata": {
    "colab": {
      "provenance": [],
      "gpuType": "T4"
    },
    "kernelspec": {
      "display_name": "Python 3",
      "name": "python3"
    },
    "language_info": {
      "name": "python"
    },
    "accelerator": "GPU"
  },
  "nbformat": 4,
  "nbformat_minor": 0
}